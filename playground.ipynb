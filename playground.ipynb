{
 "cells": [
  {
   "cell_type": "code",
   "execution_count": 8,
   "metadata": {},
   "outputs": [
    {
     "name": "stdout",
     "output_type": "stream",
     "text": [
      "Saya suka memprogram. \n",
      "\n"
     ]
    }
   ],
   "source": [
    "from dotenv import load_dotenv\n",
    "import os\n",
    "from langchain_google_genai import ChatGoogleGenerativeAI\n",
    "\n",
    "load_dotenv()\n",
    "\n",
    "GEMINI_API_KEY = os.getenv(\"GEMINI_API_KEY\")\n",
    "\n",
    "llm = ChatGoogleGenerativeAI(api_key=GEMINI_API_KEY, model =\"gemini-1.5-flash\")\n",
    "\n",
    "messages = [\n",
    "    (\n",
    "        \"system\",\n",
    "        \"You are a helpful assistant that translates English to Malay. Translate the User sentance\"\n",
    "    ),\n",
    "    (\n",
    "        \"human\",\n",
    "        \"I love programming\"\n",
    "    )\n",
    "]\n",
    "\n",
    "ai_msg = llm.invoke(messages)\n",
    "print(ai_msg.content)"
   ]
  },
  {
   "cell_type": "code",
   "execution_count": 13,
   "metadata": {},
   "outputs": [
    {
     "name": "stdout",
     "output_type": "stream",
     "text": [
      "The Olympic Games, both summer and winter, are the world's largest sporting event, bringing together thousands of athletes from across the globe.  The modern Games were inspired by the ancient Olympic Games held in Olympia, Greece, from the 8th century BC.  Baron Pierre de Coubertin founded the International Olympic Committee (IOC) in 1894, leading to the first modern Olympics in Athens in 1896. The IOC governs the Olympic Movement, encompassing all entities and individuals involved in the Games.\n",
      "\n",
      "The Games have evolved significantly over the years, with the addition of the Winter Olympics, Paralympic Games, Youth Olympic Games, and Continental Games.  The IOC has also adapted to changes in the world, such as the rise of professional athletes and the increasing impact of media and commercialization.\n",
      "\n",
      "The Olympics are a global celebration of sport, fostering international cooperation and cultural exchange. They also provide significant economic benefits and challenges to the host city and country.\n",
      "\n"
     ]
    }
   ],
   "source": [
    "from dotenv import load_dotenv\n",
    "import os\n",
    "from langchain_google_genai import ChatGoogleGenerativeAI\n",
    "from langchain_core.prompts import ChatPromptTemplate\n",
    "from langchain_community.document_loaders import WikipediaLoader\n",
    "\n",
    "load_dotenv()\n",
    "GEMINI_API_KEY = os.getenv(\"GEMINI_API_KEY\")\n",
    "llm = ChatGoogleGenerativeAI(api_key=GEMINI_API_KEY, model=\"gemini-1.5-flash\")\n",
    "loader = WikipediaLoader(\n",
    "    query=\"Olympic Games\",\n",
    "    load_max_docs=1\n",
    ")\n",
    "\n",
    "context_text = loader.load()[0].page_content\n",
    "\n",
    "prompt = ChatPromptTemplate.from_messages(\n",
    "    [\n",
    "        (\"system\", \"You are a helpful assistant \"),\n",
    "        (\"human\",\n",
    "         \"This Question: \\n {question} \\n Here is some extra context: \\n {context}\")\n",
    "    ]\n",
    ")\n",
    "\n",
    "chain = prompt | llm\n",
    "ai_msg = chain.invoke({\n",
    "    \"question\": \"What is the origin of the Olympic Games?\",\n",
    "    \"context\": context_text,\n",
    "})\n",
    "\n",
    "print(ai_msg.content)"
   ]
  },
  {
   "cell_type": "code",
   "execution_count": 14,
   "metadata": {},
   "outputs": [
    {
     "name": "stdout",
     "output_type": "stream",
     "text": [
      "[Document(metadata={'title': 'Olympic Games', 'summary': \"The modern Olympic Games (OG; or Olympics; French: Jeux olympiques, JO) are the world's leading international sporting events. They feature summer and winter sports competitions in which thousands of athletes from around the world participate in a variety of competitions. The Olympic Games are considered the world's foremost sports competition, with more than 200 teams, representing sovereign states and territories, participating. By default, the Games generally substitute for any world championships during the year in which they take place (however, each class usually maintains its own records). The Olympics are staged every four years. Since 1994, they have alternated between the Summer and Winter Olympics every two years during the four-year Olympiad.\\nTheir creation was inspired by the ancient Olympic Games, held in Olympia, Greece from the 8th century BC to the 4th century AD. Baron Pierre de Coubertin founded the International Olympic Committee (IOC) in 1894, leading to the first modern Games in Athens in 1896. The IOC is the governing body of the Olympic Movement, which encompasses all entities and individuals involved in the Olympic Games. The Olympic Charter defines their structure and authority.\\nThe evolution of the Olympic Movement during the 20th and 21st centuries has resulted in numerous changes to the Olympic Games. Some of these adjustments include the creation of the Winter Olympic Games for snow and ice sports, the Paralympic Games for athletes with disabilities, the Youth Olympic Games for athletes aged 14 to 18, the five Continental Games (Pan American, African, Asian, European, and Pacific), and the World Games for sports that are not contested in the Olympic Games. The IOC also endorses the Deaflympics and the Special Olympics. The IOC need to adapt to a variety of economic, political, and technological advancements. The abuse of amateur rules prompted the IOC to shift away from pure amateurism, as envisioned by Coubertin, to the acceptance of professional athletes participating at the Games. The growing importance of mass media has created the issue of corporate sponsorship and general commercialisation of the Games. World Wars I and II led to the cancellation of the 1916, 1940, and 1944 Olympics; large-scale boycotts during the Cold War limited participation in the 1980 and 1984 Olympics; and the 2020 Olympics were postponed until 2021 because of the COVID-19 restrictions.\\nThe Olympic Movement consists of international sports federations (IFs), National Olympic Committees (NOCs), and organising committees for each specific Olympic Games. As the decision-making body, the IOC is responsible for choosing the host city for each Games, and organises and funds the Games according to the Olympic Charter. The IOC also determines the Olympic programme, consisting of the sports to be contested at the Games. There are several Olympic rituals and symbols, such as the Olympic flag, torch, and opening and closing ceremonies. Over 14,000 athletes competed at the 2020 Summer Olympics and 2022 Winter Olympics combined, in 40 different sports and 448 events. The first-, second-, and third-place finishers in each event receive Olympic medals: gold, silver, and bronze, respectively.\\nThe Games have grown to the point that nearly every nation is now represented; colonies and overseas territories are often allowed to field their own teams. This growth has created numerous challenges and controversies, including boycotts, doping, match fixing, bribery, and terrorism. Every two years, the Olympics and its media exposure provide athletes with the chance to attain national and international fame. The Games also provide an opportunity for the host city and country to showcase themselves to the world.\\nThe Olympic Games have become a significant global event, fostering international cooperation and cultural exchange. At the same time, hosting the Olympic Games can also bring significant economic benefits and challenges to the host city, affecting infrastructure, tourism and local communities.\\n\\n\", 'source': 'https://en.wikipedia.org/wiki/Olympic_Games'}, page_content=\"The modern Olympic Games (OG; or Olympics; French: Jeux olympiques, JO) are the world's leading international sporting events. They feature summer and winter sports competitions in which thousands of athletes from around the world participate in a variety of competitions. The Olympic Games are considered the world's foremost sports competition, with more than 200 teams, representing sovereign states and territories, participating. By default, the Games generally substitute for any world championships during the year in which they take place (however, each class usually maintains its own records). The Olympics are staged every four years. Since 1994, they have alternated between the Summer and Winter Olympics every two years during the four-year Olympiad.\\nTheir creation was inspired by the ancient Olympic Games, held in Olympia, Greece from the 8th century BC to the 4th century AD. Baron Pierre de Coubertin founded the International Olympic Committee (IOC) in 1894, leading to the first modern Games in Athens in 1896. The IOC is the governing body of the Olympic Movement, which encompasses all entities and individuals involved in the Olympic Games. The Olympic Charter defines their structure and authority.\\nThe evolution of the Olympic Movement during the 20th and 21st centuries has resulted in numerous changes to the Olympic Games. Some of these adjustments include the creation of the Winter Olympic Games for snow and ice sports, the Paralympic Games for athletes with disabilities, the Youth Olympic Games for athletes aged 14 to 18, the five Continental Games (Pan American, African, Asian, European, and Pacific), and the World Games for sports that are not contested in the Olympic Games. The IOC also endorses the Deaflympics and the Special Olympics. The IOC need to adapt to a variety of economic, political, and technological advancements. The abuse of amateur rules prompted the IOC to shift away from pure amateurism, as envisioned by Coubertin, to the acceptance of professional athletes participating at the Games. The growing importance of mass media has created the issue of corporate sponsorship and general commercialisation of the Games. World Wars I and II led to the cancellation of the 1916, 1940, and 1944 Olympics; large-scale boycotts during the Cold War limited participation in the 1980 and 1984 Olympics; and the 2020 Olympics were postponed until 2021 because of the COVID-19 restrictions.\\nThe Olympic Movement consists of international sports federations (IFs), National Olympic Committees (NOCs), and organising committees for each specific Olympic Games. As the decision-making body, the IOC is responsible for choosing the host city for each Games, and organises and funds the Games according to the Olympic Charter. The IOC also determines the Olympic programme, consisting of the sports to be contested at the Games. There are several Olympic rituals and symbols, such as the Olympic flag, torch, and opening and closing ceremonies. Over 14,000 athletes competed at the 2020 Summer Olympics and 2022 Winter Olympics combined, in 40 different sports and 448 events. The first-, second-, and third-place finishers in each event receive Olympic medals: gold, silver, and bronze, respectively.\\nThe Games have grown to the point that nearly every nation is now represented; colonies and overseas territories are often allowed to field their own teams. This growth has created numerous challenges and controversies, including boycotts, doping, match fixing, bribery, and terrorism. Every two years, the Olympics and its media exposure provide athletes with the chance to attain national and international fame. The Games also provide an opportunity for the host city and country to showcase themselves to the world.\\nThe Olympic Games have become a significant global event, fostering international cooperation and cultural exchange. At the same time, hosting the Olympic Games can also bring significant economic benefits and challenges to the host ci\")]\n"
     ]
    }
   ],
   "source": [
    "print(loader.load())"
   ]
  },
  {
   "cell_type": "code",
   "execution_count": 15,
   "metadata": {},
   "outputs": [
    {
     "name": "stdout",
     "output_type": "stream",
     "text": [
      "Write a datetime string that matches the following pattern: '%Y-%m-%dT%H:%M:%S.%fZ'.\n",
      "\n",
      "Examples: 1927-04-18T19:52:44.505127Z, 1537-06-15T05:53:05.956062Z, 0672-06-09T16:23:23.367409Z\n",
      "\n",
      "Return ONLY this string, no other words!\n",
      "\n",
      "\n",
      "2024-07-26T00:00:00.000000Z \n",
      "\n"
     ]
    }
   ],
   "source": [
    "\"\"\"\n",
    "Output Parser in Langchain\n",
    "\"\"\"\n",
    "\n",
    "\n",
    "from dotenv import load_dotenv\n",
    "import os\n",
    "from langchain_google_genai import ChatGoogleGenerativeAI\n",
    "from langchain_core.prompts import ChatPromptTemplate\n",
    "from langchain.output_parsers.datetime import DatetimeOutputParser\n",
    "\n",
    "load_dotenv()\n",
    "GEMINI_API_KEY = os.getenv(\"GEMINI_API_KEY\")\n",
    "llm = ChatGoogleGenerativeAI(api_key=GEMINI_API_KEY, model=\"gemini-1.5-flash\")\n",
    "output_parser = DatetimeOutputParser()\n",
    "\n",
    "chat_prompt = ChatPromptTemplate.from_messages(\n",
    "    [\n",
    "        (\"system\", \"You always reply to questions only in datetime patterns\"),\n",
    "        (\"human\", \"{request} \\n {format_instructions}\")\n",
    "    ]\n",
    ")\n",
    "\n",
    "chain = chat_prompt | llm \n",
    "\n",
    "ai_msg = chain.invoke({\n",
    "    \"request\": \"What is the date of the next Olympics?\",\n",
    "    \"format_instructions\": output_parser.get_format_instructions()\n",
    "})\n",
    "\n",
    "print(output_parser.get_format_instructions())\n",
    "print(\"\\n\")\n",
    "print(ai_msg.content)"
   ]
  },
  {
   "cell_type": "code",
   "execution_count": null,
   "metadata": {},
   "outputs": [],
   "source": []
  }
 ],
 "metadata": {
  "kernelspec": {
   "display_name": "Python 3",
   "language": "python",
   "name": "python3"
  },
  "language_info": {
   "codemirror_mode": {
    "name": "ipython",
    "version": 3
   },
   "file_extension": ".py",
   "mimetype": "text/x-python",
   "name": "python",
   "nbconvert_exporter": "python",
   "pygments_lexer": "ipython3",
   "version": "3.11.6"
  }
 },
 "nbformat": 4,
 "nbformat_minor": 2
}
