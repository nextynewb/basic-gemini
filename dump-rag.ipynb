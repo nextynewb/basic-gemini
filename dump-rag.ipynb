{
 "cells": [
  {
   "cell_type": "code",
   "execution_count": null,
   "metadata": {},
   "outputs": [
    {
     "name": "stdout",
     "output_type": "stream",
     "text": [
      "Vector Store Created!\n"
     ]
    }
   ],
   "source": [
    "import os\n",
    "from langchain_mongodb import MongoDBAtlasVectorSearch\n",
    "from pymongo import MongoClient\n",
    "from langchain_google_genai.embeddings import GoogleGenerativeAIEmbeddings\n",
    "from dotenv import load_dotenv\n",
    "\n",
    "\n",
    "load_dotenv()\n",
    "\n",
    "GEMINI_API_KEY = os.getenv(\"GEMINI_API_KEY\")\n",
    "embeddings = GoogleGenerativeAIEmbeddings(model=\"models/embedding-001\", google_api_key=GEMINI_API_KEY)\n",
    "client = MongoClient(os.getenv(\"MONGODB_URI\"))\n",
    "\n",
    "DB_NAME = \"test_db\"\n",
    "COLLECTION_NAME = \"test_collection\"\n",
    "ATLAS_VECTOR_SEARCH_INDEX_NAME = \"test-index-1\"\n",
    "\n",
    "MONGODB_COLLECTION = client[DB_NAME][COLLECTION_NAME]\n",
    "\n",
    "vector_store = MongoDBAtlasVectorSearch(\n",
    "    collection = MONGODB_COLLECTION,\n",
    "    embedding = embeddings,\n",
    "    index_name = ATLAS_VECTOR_SEARCH_INDEX_NAME,\n",
    "    relevance_score_fn = \"cosine\"\n",
    ")\n",
    "\n",
    "vector_store.create_vector_search_index(\n",
    "    dimensions=768\n",
    ")\n",
    "\n",
    "print(\"Vector Store Created!\")\n",
    "client.close()\n",
    "\n"
   ]
  },
  {
   "cell_type": "code",
   "execution_count": 18,
   "metadata": {},
   "outputs": [
    {
     "name": "stdout",
     "output_type": "stream",
     "text": [
      "Documents Added!\n"
     ]
    }
   ],
   "source": [
    "import os\n",
    "from langchain_mongodb import MongoDBAtlasVectorSearch\n",
    "from pymongo import MongoClient\n",
    "from langchain_google_genai.embeddings import GoogleGenerativeAIEmbeddings\n",
    "from langchain.document_loaders import TextLoader\n",
    "from langchain.text_splitter import CharacterTextSplitter\n",
    "from dotenv import load_dotenv\n",
    "\n",
    "load_dotenv()\n",
    "\n",
    "GEMINI_API_KEY = os.getenv(\"GEMINI_API_KEY\")\n",
    "embeddings = GoogleGenerativeAIEmbeddings(model=\"models/embedding-001\", google_api_key=GEMINI_API_KEY)\n",
    "client = MongoClient(os.getenv(\"MONGODB_URI\"))\n",
    "\n",
    "DB_NAME = \"test_db\"\n",
    "COLLECTION_NAME = \"test_collection\"\n",
    "ATLAS_VECTOR_SEARCH_INDEX_NAME = \"test-index-1\"\n",
    "MONGODB_COLLECTION = client[DB_NAME][COLLECTION_NAME]\n",
    "\n",
    "vector_store = MongoDBAtlasVectorSearch(\n",
    "    collection=MONGODB_COLLECTION,\n",
    "    embedding=embeddings,\n",
    "    index_name=ATLAS_VECTOR_SEARCH_INDEX_NAME,\n",
    "    relevance_score_fn=\"cosine\"\n",
    ")\n",
    "\n",
    "text_splitter = CharacterTextSplitter(\n",
    "    separator = \"\\n\",\n",
    "    chunk_size = 200,\n",
    "    chunk_overlap = 0\n",
    ")\n",
    "\n",
    "loader = TextLoader(\"facts.txt\")\n",
    "docs = loader.load_and_split(\n",
    "    text_splitter=text_splitter\n",
    ")\n",
    "\n",
    "\n",
    "vector_store.add_documents(docs)\n",
    "print(\"Documents Added!\")\n",
    "client.close()"
   ]
  },
  {
   "cell_type": "code",
   "execution_count": 21,
   "metadata": {},
   "outputs": [
    {
     "name": "stdout",
     "output_type": "stream",
     "text": [
      "Berikut adalah tiga fakta mengenai haiwan:\n",
      "\n",
      "* **Penguins adalah satu-satunya burung yang boleh melompat.** (Fakta 33)\n",
      "* **Sphinx of Giza mempunyai badan singa dan kepala manusia.** (Fakta 12)\n",
      "* **Bunga pisang adalah beri, tetapi strawberi bukanlah beri.** (Fakta 11) \n",
      "\n"
     ]
    }
   ],
   "source": [
    "import os\n",
    "from langchain_mongodb import MongoDBAtlasVectorSearch\n",
    "from pymongo import MongoClient\n",
    "from langchain_google_genai import ChatGoogleGenerativeAI\n",
    "from langchain_google_genai.embeddings import GoogleGenerativeAIEmbeddings\n",
    "from langchain.chains import RetrievalQA\n",
    "from dotenv import load_dotenv\n",
    "\n",
    "load_dotenv()\n",
    "\n",
    "GEMINI_API_KEY = os.getenv(\"GEMINI_API_KEY\")\n",
    "llm_model = ChatGoogleGenerativeAI(model=\"gemini-1.5-flash\", api_key=GEMINI_API_KEY)\n",
    "embeddings = GoogleGenerativeAIEmbeddings(model=\"models/embedding-001\", google_api_key=GEMINI_API_KEY)\n",
    "client = MongoClient(os.getenv(\"MONGODB_URI\"))\n",
    "\n",
    "DB_NAME = \"test_db\"\n",
    "COLLECTION_NAME = \"test_collection\"\n",
    "ATLAS_VECTOR_SEARCH_INDEX_NAME = \"test-index-1\"\n",
    "MONGODB_COLLECTION = client[DB_NAME][COLLECTION_NAME]\n",
    "\n",
    "vector_store = MongoDBAtlasVectorSearch(\n",
    "    collection=MONGODB_COLLECTION,\n",
    "    embedding=embeddings,\n",
    "    index_name=ATLAS_VECTOR_SEARCH_INDEX_NAME,\n",
    "    relevance_score_fn=\"cosine\"\n",
    ")\n",
    "\n",
    "retriever = vector_store.as_retriever()\n",
    "chain = RetrievalQA.from_chain_type(\n",
    "    llm = llm_model,\n",
    "    retriever = retriever,\n",
    "    chain_type = \"stuff\"\n",
    ")\n",
    "\n",
    "ai_response = chain.invoke(\"Beri tiga fakta berkaitan haiwan\")\n",
    "print(ai_response[\"result\"])\n",
    "client.close()\n",
    "\n"
   ]
  },
  {
   "cell_type": "code",
   "execution_count": null,
   "metadata": {},
   "outputs": [],
   "source": []
  }
 ],
 "metadata": {
  "kernelspec": {
   "display_name": "Python 3",
   "language": "python",
   "name": "python3"
  },
  "language_info": {
   "codemirror_mode": {
    "name": "ipython",
    "version": 3
   },
   "file_extension": ".py",
   "mimetype": "text/x-python",
   "name": "python",
   "nbconvert_exporter": "python",
   "pygments_lexer": "ipython3",
   "version": "3.11.6"
  }
 },
 "nbformat": 4,
 "nbformat_minor": 2
}
